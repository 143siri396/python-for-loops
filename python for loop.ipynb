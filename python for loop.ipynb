{
 "cells": [
  {
   "cell_type": "code",
   "execution_count": 1,
   "id": "f281f208",
   "metadata": {},
   "outputs": [
    {
     "name": "stdout",
     "output_type": "stream",
     "text": [
      "1\n",
      "a\n",
      "2\n",
      "b\n",
      "3\n",
      "4\n",
      "5\n"
     ]
    }
   ],
   "source": [
    "#for loop\n",
    "numbers=[1,'a',2,'b',3,4,5]\n",
    "for num in numbers:\n",
    "    print(num)"
   ]
  },
  {
   "cell_type": "code",
   "execution_count": 5,
   "id": "8b906745",
   "metadata": {},
   "outputs": [
    {
     "name": "stdout",
     "output_type": "stream",
     "text": [
      "d\n",
      "a\n",
      "t\n",
      "a\n",
      "s\n"
     ]
    }
   ],
   "source": [
    "for i in \"datas\":\n",
    "    print(i)\n",
    "    "
   ]
  },
  {
   "cell_type": "code",
   "execution_count": 3,
   "id": "101aa9ba",
   "metadata": {},
   "outputs": [
    {
     "name": "stdout",
     "output_type": "stream",
     "text": [
      "2\n",
      "0\n"
     ]
    }
   ],
   "source": [
    "for i in \"20\":\n",
    "    print(i)"
   ]
  },
  {
   "cell_type": "code",
   "execution_count": 9,
   "id": "18bf5a2b",
   "metadata": {},
   "outputs": [
    {
     "name": "stdout",
     "output_type": "stream",
     "text": [
      "11\n",
      "10\n",
      "12\n",
      "20\n",
      "13\n",
      "30\n",
      "14\n",
      "40\n",
      "15\n",
      "50\n"
     ]
    }
   ],
   "source": [
    "for i in [1,2,3,4,5]:\n",
    "    print(i+10,end='\\n')\n",
    "    print(i*10)"
   ]
  },
  {
   "cell_type": "code",
   "execution_count": 10,
   "id": "0baab1df",
   "metadata": {},
   "outputs": [
    {
     "name": "stdout",
     "output_type": "stream",
     "text": [
      "11\t12\t13\t14\t15\t"
     ]
    }
   ],
   "source": [
    "for i in [1,2,3,4,5]:\n",
    "    print(i+10,end='\\t')"
   ]
  },
  {
   "cell_type": "code",
   "execution_count": 11,
   "id": "cc6c6721",
   "metadata": {},
   "outputs": [
    {
     "name": "stdout",
     "output_type": "stream",
     "text": [
      "*\n",
      "**\n",
      "***\n",
      "****\n",
      "*****\n"
     ]
    }
   ],
   "source": [
    "#pattern programming\n",
    "for i in [1,2,3,4,5]:\n",
    "    print(i*\"*\")"
   ]
  },
  {
   "cell_type": "code",
   "execution_count": 12,
   "id": "c35b2b1a",
   "metadata": {},
   "outputs": [
    {
     "name": "stdout",
     "output_type": "stream",
     "text": [
      "*****\n",
      "****\n",
      "***\n",
      "**\n",
      "*\n"
     ]
    }
   ],
   "source": [
    "for i in [5,4,3,2,1]:\n",
    "    print(i*\"*\")"
   ]
  },
  {
   "cell_type": "code",
   "execution_count": 14,
   "id": "302fec36",
   "metadata": {},
   "outputs": [
    {
     "name": "stdout",
     "output_type": "stream",
     "text": [
      "3\n",
      "33\n",
      "333\n",
      "3333\n",
      "33333\n"
     ]
    }
   ],
   "source": [
    "for i in [1,2,3,4,5]:\n",
    "    print(i*\"3\")"
   ]
  },
  {
   "cell_type": "code",
   "execution_count": 15,
   "id": "cfb55040",
   "metadata": {},
   "outputs": [
    {
     "name": "stdout",
     "output_type": "stream",
     "text": [
      "0\n",
      "1\n",
      "2\n",
      "3\n",
      "4\n",
      "5\n",
      "6\n",
      "7\n",
      "8\n",
      "9\n"
     ]
    }
   ],
   "source": [
    "for i in range(0,10):\n",
    "    print(i)"
   ]
  },
  {
   "cell_type": "code",
   "execution_count": 16,
   "id": "50d8695a",
   "metadata": {},
   "outputs": [
    {
     "name": "stdout",
     "output_type": "stream",
     "text": [
      "0\n",
      "2\n",
      "4\n",
      "6\n",
      "8\n"
     ]
    }
   ],
   "source": [
    "for i in range(0,10,2):\n",
    "    print(i)"
   ]
  },
  {
   "cell_type": "code",
   "execution_count": 17,
   "id": "edbb32f5",
   "metadata": {},
   "outputs": [
    {
     "name": "stdout",
     "output_type": "stream",
     "text": [
      "10\n",
      "9\n",
      "8\n",
      "7\n",
      "6\n",
      "5\n",
      "4\n",
      "3\n",
      "2\n",
      "1\n"
     ]
    }
   ],
   "source": [
    "for i in range(10,0,-1):\n",
    "    print(i)"
   ]
  },
  {
   "cell_type": "code",
   "execution_count": 18,
   "id": "28f874f6",
   "metadata": {},
   "outputs": [
    {
     "name": "stdout",
     "output_type": "stream",
     "text": [
      "0\n",
      "3\n",
      "6\n",
      "9\n"
     ]
    }
   ],
   "source": [
    "for i in range(0,10,3):\n",
    "    print(i)"
   ]
  },
  {
   "cell_type": "code",
   "execution_count": 20,
   "id": "58956bc0",
   "metadata": {},
   "outputs": [
    {
     "name": "stdout",
     "output_type": "stream",
     "text": [
      "0 is even number\n",
      "1 is not a even number\n",
      "2 is even number\n",
      "3 is not a even number\n",
      "4 is even number\n",
      "5 is not a even number\n",
      "6 is even number\n",
      "7 is not a even number\n",
      "8 is even number\n",
      "9 is not a even number\n"
     ]
    }
   ],
   "source": [
    "#print even numbers\n",
    "for i in range(0,10):\n",
    "    #print(i)\n",
    "    if i%2==0:\n",
    "        print(f'{i} is even number')\n",
    "    else:\n",
    "        print(f'{i} is not a even number')"
   ]
  },
  {
   "cell_type": "code",
   "execution_count": 23,
   "id": "204b4837",
   "metadata": {},
   "outputs": [
    {
     "name": "stdout",
     "output_type": "stream",
     "text": [
      "DATA"
     ]
    }
   ],
   "source": [
    "for i in \"DATA12345\":\n",
    "    if i.isalpha():               #print only DATA\n",
    "        print(i,end='')"
   ]
  },
  {
   "cell_type": "code",
   "execution_count": 44,
   "id": "41588240",
   "metadata": {
    "scrolled": true
   },
   "outputs": [
    {
     "name": "stdout",
     "output_type": "stream",
     "text": [
      "1,2,3,4,5,"
     ]
    }
   ],
   "source": [
    "for i in \"DATA12345\":\n",
    "    if i.isnumeric():               #print only 12345\n",
    "        print(i,end=\",\")"
   ]
  },
  {
   "cell_type": "code",
   "execution_count": 45,
   "id": "14445e9a",
   "metadata": {},
   "outputs": [
    {
     "name": "stdout",
     "output_type": "stream",
     "text": [
      "!,@,%,*,$,#,$,&,*,@,@,$,^,^,#,$,&,$,!,@,%,*,$,#,$,&,*,@,@,$,^,^,#,$,&,$\n"
     ]
    }
   ],
   "source": [
    "data=\"!@%*$#$&*@@$^^#$&$\"\n",
    "for i in data:\n",
    "    if i.isalpha()==False:\n",
    "        print(i,end=\",\")\n",
    "print(\",\".join(data))"
   ]
  },
  {
   "cell_type": "code",
   "execution_count": 1,
   "id": "bee95515",
   "metadata": {},
   "outputs": [
    {
     "name": "stdout",
     "output_type": "stream",
     "text": [
      "h\n",
      "e\n",
      "l\n",
      "l\n",
      "o\n",
      "hello\n"
     ]
    }
   ],
   "source": [
    "word=\"hello\"\n",
    "for i in word:\n",
    "    print(i)\n",
    "print(word)"
   ]
  },
  {
   "cell_type": "code",
   "execution_count": 3,
   "id": "f5adb16d",
   "metadata": {},
   "outputs": [
    {
     "name": "stdout",
     "output_type": "stream",
     "text": [
      "1 28 D\n",
      "2 27 a\n",
      "3 26 t\n",
      "4 25 a\n",
      "5 24  \n",
      "6 23 S\n",
      "7 22 c\n",
      "8 21 i\n",
      "9 20 e\n",
      "10 19 n\n",
      "11 18 c\n",
      "12 17 e\n",
      "13 16  \n",
      "14 15 M\n",
      "15 14 a\n",
      "16 13 c\n",
      "17 12 h\n",
      "18 11 i\n",
      "19 10 n\n",
      "20 9 e\n",
      "21 8  \n",
      "22 7 L\n",
      "23 6 e\n",
      "24 5 a\n",
      "25 4 r\n",
      "26 3 n\n",
      "27 2 i\n",
      "28 1 n\n",
      "29 0 g\n"
     ]
    }
   ],
   "source": [
    "data=\"Data Science Machine Learning\"\n",
    "x=0\n",
    "y=len(data)\n",
    "for i in data:\n",
    "    x=x+1\n",
    "    y=y-1\n",
    "    print(x,y,i)"
   ]
  },
  {
   "cell_type": "code",
   "execution_count": 4,
   "id": "6432ae7c",
   "metadata": {},
   "outputs": [],
   "source": [
    "text =''' The Sun emits ~3.8 × 10²⁶ watts of energy! Life depends on its light & heat.\n",
    "Water (~71% of Earth) supports ecosystems, marine life & weather cycles.\n",
    "Tech evolves @ rapid speed—AI, IoT & 5G reshape how we work, learn & connect!'''"
   ]
  },
  {
   "cell_type": "code",
   "execution_count": 5,
   "id": "4216eecf",
   "metadata": {},
   "outputs": [
    {
     "data": {
      "text/plain": [
       "['The',\n",
       " 'Sun',\n",
       " 'emits',\n",
       " '~3.8',\n",
       " '×',\n",
       " '10²⁶',\n",
       " 'watts',\n",
       " 'of',\n",
       " 'energy!',\n",
       " 'Life',\n",
       " 'depends',\n",
       " 'on',\n",
       " 'its',\n",
       " 'light',\n",
       " '&',\n",
       " 'heat.',\n",
       " 'Water',\n",
       " '(~71%',\n",
       " 'of',\n",
       " 'Earth)',\n",
       " 'supports',\n",
       " 'ecosystems,',\n",
       " 'marine',\n",
       " 'life',\n",
       " '&',\n",
       " 'weather',\n",
       " 'cycles.',\n",
       " 'Tech',\n",
       " 'evolves',\n",
       " '@',\n",
       " 'rapid',\n",
       " 'speed—AI,',\n",
       " 'IoT',\n",
       " '&',\n",
       " '5G',\n",
       " 'reshape',\n",
       " 'how',\n",
       " 'we',\n",
       " 'work,',\n",
       " 'learn',\n",
       " '&',\n",
       " 'connect!']"
      ]
     },
     "execution_count": 5,
     "metadata": {},
     "output_type": "execute_result"
    }
   ],
   "source": [
    "text.split()"
   ]
  },
  {
   "cell_type": "code",
   "execution_count": 6,
   "id": "68ab62ef",
   "metadata": {},
   "outputs": [
    {
     "name": "stdout",
     "output_type": "stream",
     "text": [
      "The,Sun,emits,10²⁶,watts,of,Life,depends,on,its,light,Water,of,supports,marine,life,weather,Tech,evolves,rapid,IoT,5G,reshape,how,we,learn,"
     ]
    }
   ],
   "source": [
    "for i  in text.split():\n",
    "    if i.isalnum()==True:\n",
    "        print(i,end=\",\")"
   ]
  },
  {
   "cell_type": "code",
   "execution_count": 9,
   "id": "b6035a1d",
   "metadata": {},
   "outputs": [],
   "source": [
    "x=0\n",
    "for i in text:\n",
    "    if i.isupper():\n",
    "        x+=1"
   ]
  },
  {
   "cell_type": "code",
   "execution_count": 10,
   "id": "8ea3af70",
   "metadata": {},
   "outputs": [
    {
     "data": {
      "text/plain": [
       "11"
      ]
     },
     "execution_count": 10,
     "metadata": {},
     "output_type": "execute_result"
    }
   ],
   "source": [
    "x"
   ]
  },
  {
   "cell_type": "code",
   "execution_count": 11,
   "id": "e9ec4570",
   "metadata": {},
   "outputs": [
    {
     "name": "stdout",
     "output_type": "stream",
     "text": [
      "T,S,L,W,E,T,A,I,I,T,G,"
     ]
    }
   ],
   "source": [
    "x=0\n",
    "for i in text:\n",
    "    if i.isupper():\n",
    "        x+=1\n",
    "        print(i,end=\",\")"
   ]
  },
  {
   "cell_type": "code",
   "execution_count": 13,
   "id": "dbca0741",
   "metadata": {},
   "outputs": [
    {
     "name": "stdout",
     "output_type": "stream",
     "text": [
      "0 9\n",
      "1 8\n",
      "2 7\n",
      "3 6\n",
      "4 5\n",
      "5 4\n",
      "6 3\n",
      "7 2\n",
      "8 1\n",
      "9 0\n"
     ]
    }
   ],
   "source": [
    "for i in range(0,10):\n",
    "    print(i,9-i)"
   ]
  },
  {
   "cell_type": "code",
   "execution_count": 16,
   "id": "786a6c03",
   "metadata": {},
   "outputs": [
    {
     "name": "stdout",
     "output_type": "stream",
     "text": [
      "0 9\n",
      "1 9\n",
      "2 9\n",
      "3 9\n",
      "4 9\n",
      "5 9\n",
      "6 9\n",
      "7 9\n",
      "8 9\n",
      "9 9\n"
     ]
    }
   ],
   "source": [
    "for i in range(0,10):\n",
    "    print(i,len(range(0,10))-1)"
   ]
  },
  {
   "cell_type": "code",
   "execution_count": 17,
   "id": "686930b2",
   "metadata": {},
   "outputs": [
    {
     "name": "stdout",
     "output_type": "stream",
     "text": [
      "*\n",
      "**\n",
      "***\n",
      "****\n",
      "*****\n"
     ]
    }
   ],
   "source": [
    "for i in range(1,6):\n",
    "    print(i*\"*\")"
   ]
  },
  {
   "cell_type": "code",
   "execution_count": 18,
   "id": "effa1473",
   "metadata": {},
   "outputs": [
    {
     "name": "stdout",
     "output_type": "stream",
     "text": [
      "*****\n",
      "****\n",
      "***\n",
      "**\n",
      "*\n"
     ]
    }
   ],
   "source": [
    "for i in range(1,6):\n",
    "    print((6-i)*\"*\")"
   ]
  }
 ],
 "metadata": {
  "kernelspec": {
   "display_name": "Python 3 (ipykernel)",
   "language": "python",
   "name": "python3"
  },
  "language_info": {
   "codemirror_mode": {
    "name": "ipython",
    "version": 3
   },
   "file_extension": ".py",
   "mimetype": "text/x-python",
   "name": "python",
   "nbconvert_exporter": "python",
   "pygments_lexer": "ipython3",
   "version": "3.11.5"
  }
 },
 "nbformat": 4,
 "nbformat_minor": 5
}
